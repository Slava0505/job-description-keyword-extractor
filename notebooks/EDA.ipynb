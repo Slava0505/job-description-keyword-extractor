{
 "cells": [
  {
   "cell_type": "code",
   "execution_count": 21,
   "id": "7db92537-0e87-460f-a0b3-31084dc3a724",
   "metadata": {},
   "outputs": [],
   "source": [
    "import pandas as pd\n",
    "\n",
    "df = pd.read_csv('../data/test.csv')\n",
    "df = df[df['description'].notnull()]"
   ]
  },
  {
   "cell_type": "code",
   "execution_count": 22,
   "id": "617130d4-1d16-4573-9dfa-ecdc0c8f8615",
   "metadata": {},
   "outputs": [],
   "source": [
    "## description cleaning\n",
    "\n",
    "import re\n",
    "CLEANR = re.compile('<.*?>') \n",
    "\n",
    "def cleanhtml(raw_html):\n",
    "    cleantext = re.sub(CLEANR, '', raw_html)\n",
    "    return cleantext\n",
    "\n",
    "df['description'] = df['description'].apply(cleanhtml)"
   ]
  },
  {
   "cell_type": "code",
   "execution_count": 32,
   "id": "99d9b11f-519e-4d29-a2b8-d47fd0716926",
   "metadata": {},
   "outputs": [
    {
     "data": {
      "text/plain": [
       "0                                                      NaN\n",
       "1                                                      NaN\n",
       "2        {\"Работа в команде\",\"Работа в условиях многоза...\n",
       "3        {Стрессоустойчивость,Ответственность,Коммуника...\n",
       "4        {\"Работа в команде\",\"Умение работать в команде...\n",
       "                               ...                        \n",
       "49995    {\"Пользователь ПК\",Инвентаризация,\"Складской У...\n",
       "49996    {\"Ведение отчетности\",\"Учет материалов\",\"Докум...\n",
       "49997    {\"Ведение отчетности\",\"Учет материалов\",\"Докум...\n",
       "49998    {\"Ведение отчетности\",\"Учет материалов\",\"Докум...\n",
       "49999    {\"Грамотная речь\",\"Деловой этикет\",\"Прием посе...\n",
       "Name: key_skills, Length: 49550, dtype: object"
      ]
     },
     "execution_count": 32,
     "metadata": {},
     "output_type": "execute_result"
    }
   ],
   "source": [
    "df['key_skills']"
   ]
  },
  {
   "cell_type": "code",
   "execution_count": 43,
   "id": "7ed8c738-8adb-4369-8a9e-a3f31b843f98",
   "metadata": {},
   "outputs": [
    {
     "name": "stderr",
     "output_type": "stream",
     "text": [
      "/tmp/ipykernel_4189980/1560821624.py:2: FutureWarning: The default value of regex will change from True to False in a future version. In addition, single character regular expressions will *not* be treated as literal strings when regex=True.\n",
      "  df['key_skills'] = df['key_skills'].str.replace('{','').str.replace('}','').str.replace('\"','')\n"
     ]
    }
   ],
   "source": [
    "df['key_skills'] = df['key_skills'].fillna('')\n",
    "df['key_skills'] = df['key_skills'].str.replace('{','').str.replace('}','').str.replace('\"','')\n",
    "df['key_skills_list'] = df['key_skills'].str.split(',')"
   ]
  },
  {
   "cell_type": "code",
   "execution_count": 10,
   "id": "74111b03-76c4-4173-ab93-a95298e86425",
   "metadata": {},
   "outputs": [],
   "source": []
  },
  {
   "cell_type": "code",
   "execution_count": 16,
   "id": "bfadb8e0-bccd-4ff4-b4a3-c66d0a01ba27",
   "metadata": {},
   "outputs": [
    {
     "data": {
      "text/plain": [
       "0        В крупную, стабильную компанию, специализирующ...\n",
       "1        Требуемый опыт работы: не требуется Полная зан...\n",
       "2        Обязанности:  Монтаж железобетонных и металлич...\n",
       "3        Обязанности:  Выполнение геодезических работ, ...\n",
       "4        Обязанности:  управление самоходным краном на ...\n",
       "                               ...                        \n",
       "49995    Обязанности:  Подтверждение и резерв товара по...\n",
       "49996    Обязанности:  Организация вывоза: брака, лома,...\n",
       "49997    Обязанности:  Организация вывоза: брака, лома,...\n",
       "49998    Обязанности:  Организация вывоза: брака, лома,...\n",
       "49999    Уважаемые кандидаты! Резюме без фото не рассма...\n",
       "Name: description, Length: 49550, dtype: object"
      ]
     },
     "execution_count": 16,
     "metadata": {},
     "output_type": "execute_result"
    }
   ],
   "source": []
  }
 ],
 "metadata": {
  "kernelspec": {
   "display_name": "Python 3 (ipykernel)",
   "language": "python",
   "name": "python3"
  },
  "language_info": {
   "codemirror_mode": {
    "name": "ipython",
    "version": 3
   },
   "file_extension": ".py",
   "mimetype": "text/x-python",
   "name": "python",
   "nbconvert_exporter": "python",
   "pygments_lexer": "ipython3",
   "version": "3.10.8"
  }
 },
 "nbformat": 4,
 "nbformat_minor": 5
}
