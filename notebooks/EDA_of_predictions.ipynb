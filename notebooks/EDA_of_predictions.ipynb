{
 "cells": [
  {
   "cell_type": "markdown",
   "id": "60de3e2f-349c-41ff-814a-a4420147afb6",
   "metadata": {},
   "source": [
    "## Формирование подвыборки для проверки"
   ]
  },
  {
   "cell_type": "code",
   "execution_count": 1,
   "id": "849a5a1f-4a30-4d98-bc9d-5849b92a8218",
   "metadata": {},
   "outputs": [],
   "source": [
    "import pandas as pd\n",
    "\n",
    "df_test = pd.read_csv('../data/it_dataset.csv')\n",
    "df_test = df_test[df_test['description'].apply(len)<2000]\n",
    "\n",
    "df_test = df_test.iloc[45000:]"
   ]
  },
  {
   "cell_type": "code",
   "execution_count": 2,
   "id": "c5f4f0b1-cd4d-4a68-a5ad-f8eefa307f4f",
   "metadata": {},
   "outputs": [],
   "source": [
    "df_test.to_csv('../testing/full_test.csv', index = False)\n",
    "df_test[:20].to_csv('../testing/example.csv', index = False)"
   ]
  },
  {
   "cell_type": "markdown",
   "id": "d9bf3ee0-b849-463b-bfe0-121b197fed05",
   "metadata": {},
   "source": [
    "## Логи результатов прогона"
   ]
  },
  {
   "cell_type": "code",
   "execution_count": 4,
   "id": "8049b2a7-c6a1-458e-9933-2c0890a5937e",
   "metadata": {},
   "outputs": [],
   "source": [
    "df_test = pd.read_csv('../testing/example_result.csv')"
   ]
  },
  {
   "cell_type": "code",
   "execution_count": 37,
   "id": "e811c04f-0bee-4e96-a4b8-1d9429d8fb07",
   "metadata": {},
   "outputs": [],
   "source": [
    "df_test['extracted_key_skills_list'] = df_test['extracted_key_skills'].str.split(';')\n",
    "top_key_skills = df_test['extracted_key_skills_list'].apply(pd.Series).stack().reset_index(drop=True).value_counts().iloc[:5]\n",
    "median_len = int(df_test['extracted_key_skills_list'].apply(len).median())\n",
    "\n",
    "result_log = ''\n",
    "result_log+=f'Количество поданных вакансий: {len(df_test)}\\n'\n",
    "result_log+=f'Медианное количество количества предсказанных ключевых навыков: {median_len}\\n'\n",
    "result_log+='Топ навыков, встречающихся в предсказаниях:\\n****************\\n'\n",
    "result_log+=top_key_skills.to_string()\n",
    "result_log+='\\n****************\\n'\n"
   ]
  }
 ],
 "metadata": {
  "kernelspec": {
   "display_name": "Python 3 (ipykernel)",
   "language": "python",
   "name": "python3"
  },
  "language_info": {
   "codemirror_mode": {
    "name": "ipython",
    "version": 3
   },
   "file_extension": ".py",
   "mimetype": "text/x-python",
   "name": "python",
   "nbconvert_exporter": "python",
   "pygments_lexer": "ipython3",
   "version": "3.10.8"
  }
 },
 "nbformat": 4,
 "nbformat_minor": 5
}
