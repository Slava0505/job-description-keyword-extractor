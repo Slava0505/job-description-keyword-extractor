{
 "cells": [
  {
   "cell_type": "code",
   "execution_count": 1,
   "id": "ca66c1d9-c9ef-47a4-88d5-5741579d571c",
   "metadata": {},
   "outputs": [],
   "source": [
    "import pandas as pd"
   ]
  },
  {
   "cell_type": "code",
   "execution_count": 18,
   "id": "05d4867a-a2fc-4d64-ba6d-a1fe6afd9da4",
   "metadata": {},
   "outputs": [],
   "source": [
    "test_df = pd.read_csv('../data/it_dataset_test_search.csv')"
   ]
  },
  {
   "cell_type": "code",
   "execution_count": 19,
   "id": "6afae929-c1fe-4147-b486-5831cb6af93d",
   "metadata": {},
   "outputs": [],
   "source": [
    "test_df['true'] = test_df['key_skills'].str.split(';')\n",
    "test_df['preds'] = test_df['extracted_key_skills'].str.split(';')"
   ]
  },
  {
   "cell_type": "code",
   "execution_count": 42,
   "id": "3929a33f-fcf4-48b3-a413-66cce7d6183b",
   "metadata": {},
   "outputs": [],
   "source": [
    "def pretransform_keyskills(keyskills):\n",
    "    keyskills = [keyskill.lower() for keyskill in keyskills]\n",
    "    # keyskills = [keyskill.replace('sql','sl') for keyskill in keyskills]\n",
    "    \n",
    "    return keyskills"
   ]
  },
  {
   "cell_type": "code",
   "execution_count": 43,
   "id": "fe7d24aa-de73-431e-9637-4422827ed255",
   "metadata": {},
   "outputs": [],
   "source": [
    "# Testing\n",
    "# true, preds = test_df['true'][0], test_df['preds'][0]\n",
    "# true = set(true)\n",
    "# preds = set(preds)\n",
    "\n",
    "def precision_score(raw):\n",
    "    true, preds = raw\n",
    "    true = set(true)\n",
    "    preds = set(preds)  \n",
    "    precision_score = len(true&preds)/len(preds)\n",
    "    return precision_score\n",
    "    \n",
    "def recall_score(raw):\n",
    "    true, preds = raw\n",
    "    true = set(true)\n",
    "    preds = set(preds)  \n",
    "    recall_score = len(true&preds)/len(true)\n",
    "    return recall_score"
   ]
  },
  {
   "cell_type": "code",
   "execution_count": 44,
   "id": "77384a49-dcaf-4364-85b9-9a52ae083aeb",
   "metadata": {},
   "outputs": [],
   "source": [
    "test_df['pretransformed_true'] = test_df['true'].apply(pretransform_keyskills)\n",
    "test_df['pretransformed_preds'] = test_df['preds'].apply(pretransform_keyskills)"
   ]
  },
  {
   "cell_type": "code",
   "execution_count": 45,
   "id": "f7c1f8c3-da12-4277-abbd-94694b6bf881",
   "metadata": {},
   "outputs": [],
   "source": [
    "test_df['precision'] = test_df[['pretransformed_true','pretransformed_preds']].apply(precision_score, axis = 1)\n",
    "test_df['recall'] = test_df[['pretransformed_true','pretransformed_preds']].apply(recall_score, axis = 1)"
   ]
  },
  {
   "cell_type": "code",
   "execution_count": 46,
   "id": "68b95270-9c96-4e7c-b922-40348e1dad1e",
   "metadata": {},
   "outputs": [
    {
     "data": {
      "text/plain": [
       "(0.16216576835776322, 0.29979052981197185)"
      ]
     },
     "execution_count": 46,
     "metadata": {},
     "output_type": "execute_result"
    }
   ],
   "source": [
    "test_df['precision'].mean(), test_df['recall'].mean()"
   ]
  },
  {
   "cell_type": "code",
   "execution_count": 47,
   "id": "521c2095-bd4d-4acd-8447-ca0bfe890430",
   "metadata": {},
   "outputs": [
    {
     "data": {
      "text/plain": [
       "(0.16216576835776322, 0.29979052981197185)"
      ]
     },
     "execution_count": 47,
     "metadata": {},
     "output_type": "execute_result"
    }
   ],
   "source": [
    "test_df['precision'].mean(), test_df['recall'].mean()"
   ]
  },
  {
   "cell_type": "code",
   "execution_count": 48,
   "id": "269e8eda-45e6-46af-ad63-5185b10a43e0",
   "metadata": {},
   "outputs": [
    {
     "name": "stdout",
     "output_type": "stream",
     "text": [
      "0.2727272727272727\n",
      "C/C++;Java;SQL;Тестирование;Базы данных;С++;Готовность обучаться;Нагрузочное тестирование;HTTP;Oracle DB;Работа с банками\n",
      "Java;С;Разработка;программирование;C#;Обучение;ПО;Анализ;Работа с базами данных;SQL;ИТ;C/C++\n",
      "####################\n",
      "0.08333333333333333\n",
      "Яндекс.Директ;Google Analytics;Интернет-реклама;Управление интернет-проектами;Internet Marketing;Яндекс.Метрика;Управление проектами;Контекстная реклама;Умение работать с людьми;Поставленная речь;Умение работать в условиях многозадачности;Грамотная письменная речь\n",
      "Коммуникация;Грамотная устная и письменная речь;Высшее образование;Контроль качества;С;Яндекс.Директ;ПО;выявление потребностей;Постановка задач;ИТ;Ведение отчетности\n",
      "####################\n",
      "0.1\n",
      "Базы данных;1C: Управление торговлей;1С: Управление Торговлей;1С: Управление предприятием;1С программирование;1C: Предприятие;Создание конфигурации 1С;1С: Зарплата и управление персоналом;1С: Бухгалтерия предприятия;1С: Предприятие 8\n",
      "Битрикс;С;удаленная работа;Разработка;1С: Управление Торговлей;ЗУП;ПО;Консультирование;ИТ;1с\n",
      "####################\n",
      "0.625\n",
      "Vue;CSS;HTML5;Less;Git;JavaScript;PHP;Работа в команде\n",
      "Работа в команде;С;Разработка;удаленно;COM;HTTPS;js;разработчик;VUE;code review;WEB;Docker-compose;Vue.JS;JavaScript;typescript;docker;Less;SASS/SCSS;ПО;ИТ;Проектирование;ES6;ППА;Git\n",
      "####################\n",
      "0.125\n",
      "Управление проектами;Управление рисками;Agile Project Management;Бизнес-анализ;Аналитическое мышление;Project management;Анализ данных;Анализ рисков\n",
      "Планирование работ;Достижение целей;Development;Планирование;Аналитический склад ума;С; стрессоустойчивость;Управление рисками;Информационные системы;умение работать в команде;ПО;Контроль;Анализ;Высшее образование;Лидерские качества;ИТ;Коммуникабельность;agile\n",
      "####################\n",
      "0.08333333333333333\n",
      "Работа в команде;Проведение презентаций;Разработка нового продукта;MS PowerPoint;Подготовка презентаций;Коммуникативные навыки;Режим многозадачности;Уверенный пользователь Microsoft Office;Внимательность к деталям; способность работать с большими массивами информации;Коммуникабельность; стрессоустойчивость\n",
      "Управление ассортиментом;С;Проведение презентаций;Разработка;ПО;Анализ;Умение работать в режиме многозадачности;Маркетинг;ИТ\n",
      "####################\n",
      "0.4666666666666667\n",
      "Мобильность;Мобильные приложения;Умение брать на себя ответственность;JSON;Node.js;NodeJS;SQL;XML;PHP;MySQL;PostgreSQL;Laravel;iOS;Backend;API\n",
      "NodeJS;С;Разработка;Redis;удаленно;laravel;Android;Спорт;разработчик;js;MySQL;PostgreSQL;vuejs;API;backend;ПО;Сервис;ИТ;Java;swift;C++;iOS;Технолог; Python\n",
      "####################\n",
      "0.875\n",
      "Git;REST;React;TypeScript;ES6;GraphQL;SPA;MongoDB\n",
      "typescript;Developer;разработчик;ГИС;С;MongoDB;REST;Разработка;GraphQL;frontend;ПО;SPA;react;Сервис;Git\n",
      "####################\n",
      "0.0\n",
      "Проведение промо акций;Аналитические исследования;Умение работать в коллективе;1С: Торговля;Работа в условиях многозадачности;Exsel;Желание работать и зарабатывать;Организаторские навыки;Ведение переговоров;Активные продажи;Претензионная работа с клиентами; работа с возражениями\n",
      "С;Знание программ;Аналитик;Торговля;Знание программы 1С; склад;Контроль;Анализ;ПО;ИТ\n",
      "####################\n",
      "0.07692307692307693\n",
      "Информационные технологии;Автоматизированное рабочее место (АРМ);Проведение тестирований;Опытный пользователь ПК;Опытный пользователь ПК; знание MS Office;Microsoft Windows;выездная работа;Выездное обслуживание;Техническое обслуживание;Ремонт техники;Техническая поддержка;Настройка ПК;Ремонт ПК\n",
      "ПК;it;Тестирование;С;Принтер;Уверенный пользователь ПК;Сервис;Диагностика;ОС Windows;C;Ремонт;ПО;Контроль;Техническая поддержка;ККТ;Терминалы Сбора Данных;Обучение\n",
      "####################\n",
      "0.375\n",
      "Дизайн;BIM;Autodesk Revit;Работа с чертежами;Revit;Проектная документация;Рабочая документация;Проектирование\n",
      "Дизайн интерьера;С;разработка чертежей;архитектор;Дизайнер;Autodesk Revit;BIM;ПО;Моделирование;Revit;ИТ\n",
      "####################\n",
      "0.375\n",
      "Рисунок;Adobe Photoshop;Графика;Фотомонтаж;Графический дизайн;Дизайн;Графические редакторы;Работа в команде\n",
      "Adobe Photoshop;Обработка фото;С;Дизайнер;ПО;Рисунок;Фото;Фотомонтаж;ИТ;Рисование\n",
      "####################\n",
      "0.1\n",
      "Linux;Python;Go;Ansible;Kubernetes;Docker;Git;Jenkins;Gitlab CI;PostgreSQL\n",
      " принимать решения;ELK;Страхование;С;graylog;Инвестиции;Спорт; Linux;middle;it;Автоматизация;SRE;C;ML;Мониторинг;ПО;Сервис;ИТ;Splunk;Технолог;Git\n",
      "####################\n",
      "0.0\n",
      "Excel;Экономический анализ;Аналитическое мышление;Управленческая отчетность;Подготовка отчетов;План-фактный анализ бюджета;MS PowerPoint;Анализ текущей ситуации\n",
      "MS Word;Менеджмент;Power BI;Готовность к командировкам;MS Excel;С;Спортивные мероприятия;Разработка;Power Point;ПО;Анализ;Power Query;Умение работать в режиме многозадачности;Высшее образование;ИТ;Связь\n",
      "####################\n",
      "0.10526315789473684\n",
      "Тайм-менеджмент;Деловая коммуникация;Удаленная работа;Коммуникация;Работа в условиях многозадачности;Умение работать в условиях многозадачности;Навыки планирования;Проведение презентаций;Подготовка презентаций;Навыки презентации;MS PowerPoint;Организация презентаций;MS Outlook;Презентационные навыки;Переговоры;Уверенный пользователь MS Office;Эффективность;Образованность;Опыт работы с документацией\n",
      "Бюджетирование;Отличное знание ПК;MS Office;Инициативность;С;менеджер проектов;удаленная работа; ответственность;Проектный менеджмент;Мобильность;ПО;Контроль;НСИ;Торговый маркетинг;Подготовка презентаций;Высшее образование;ИТ\n",
      "####################\n",
      "0.2\n",
      "Adobe Photoshop;Adobe Illustrator;Adobe After Effect;Figma;Tilda;Производство рекламных роликов;Digital Marketing;Cоциальная реклама;Реклама;Креативность\n",
      "figma;С;ПК;After Effects;YouTube;Активность;tilda;Самостоятельность;Маркетинг;Photoshop; ответственность;Аудит;умение работать в команде;Instagram;ПО;ИТ;Дизайн;Технолог;Usability\n",
      "####################\n",
      "0.0\n",
      "1С: Предприятие 8;1С программирование;Управление временем;Грамотная устная и письменная речь;Продвинутый пользователь ПК;Основы программирования;Отличное знание ПК;1С: Зарплата и управление персоналом;Обновление конфигурации 1С;1C: Предприятие;Создание конфигурации 1С;Работа в условиях многозадачности\n",
      "ПК;С;Разработка;ПО;Консультирование;ИТ;Связь;1с\n",
      "####################\n",
      "0.09090909090909091\n",
      "Active Directory;Администрирование сетевого оборудования;Windows Os;Настройка DNS;Умение расставлять приоритеты;Администрирование серверов Windows;Настройка ПК;Техническое обслуживание;Локальные сети;Настройка сетевых подключений;Настройка ПО\n",
      "windows;Стрессоустойчивость;С;Принтер;Грамотная речь;Администрирование серверов;Техническая поддержка; GPO;Исполнительность;Active Directory;Правильно расставлять приоритеты;сетевое оборудование;Компьютер;Мониторинг;Сканер;ПО;Высшее образование;Сервис;ИТ;Коммуникабельность;ТЗ;ППА;Умение находить общий язык\n",
      "####################\n",
      "0.25\n",
      "Функциональное тестирование;Jira;Тестирование;Ручное тестирование;QA;Postman;Atlassian Confluence;Тестирование пользовательского интерфейса\n",
      "Scrum;it;Тестирование;разработчик;Тест-дизайн;XML;С;Базовые знания SQL;JIRA;Обучение;json;ПО;Сервис;ИТ;аналитика;agile\n",
      "####################\n",
      "0.2727272727272727\n",
      "Adobe Illustrator;Adobe Photoshop;Графический дизайн;Дизайн;Figma;HTML;CSS;Digital Marketing;Работа в команде;Обработка изображений;Adobe InDesign\n",
      "figma;С;НСИ;HTML/CSS;Графический дизайн;After Effects;Дизайнер;Соблюдение сроков;Реклама;WEB;InDesign;удаленная работа;UX/UI;AI;ПО;ИТ;Дизайн;ФТ;Аккуратность\n",
      "####################\n"
     ]
    }
   ],
   "source": [
    "for i, row in test_df.iloc[0:20].iterrows():\n",
    "    print(row.recall)\n",
    "    print(row.key_skills)\n",
    "    print(row.extracted_key_skills)    \n",
    "    print('#'*20)"
   ]
  },
  {
   "cell_type": "code",
   "execution_count": null,
   "id": "308242c9-289e-4664-8122-73228987981f",
   "metadata": {},
   "outputs": [],
   "source": []
  },
  {
   "cell_type": "code",
   "execution_count": null,
   "id": "dfbc03fe-d9f7-4ef5-a676-a0f77a1ddd89",
   "metadata": {},
   "outputs": [],
   "source": []
  }
 ],
 "metadata": {
  "kernelspec": {
   "display_name": "Python 3 (ipykernel)",
   "language": "python",
   "name": "python3"
  },
  "language_info": {
   "codemirror_mode": {
    "name": "ipython",
    "version": 3
   },
   "file_extension": ".py",
   "mimetype": "text/x-python",
   "name": "python",
   "nbconvert_exporter": "python",
   "pygments_lexer": "ipython3",
   "version": "3.10.8"
  }
 },
 "nbformat": 4,
 "nbformat_minor": 5
}
