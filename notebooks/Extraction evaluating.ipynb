{
 "cells": [
  {
   "cell_type": "code",
   "execution_count": 1,
   "id": "ca66c1d9-c9ef-47a4-88d5-5741579d571c",
   "metadata": {},
   "outputs": [],
   "source": [
    "import pandas as pd"
   ]
  },
  {
   "cell_type": "code",
   "execution_count": 40,
   "id": "05d4867a-a2fc-4d64-ba6d-a1fe6afd9da4",
   "metadata": {},
   "outputs": [],
   "source": [
    "test_df = pd.read_csv('../data/it_test_dataset_sample_result.csv')"
   ]
  },
  {
   "cell_type": "code",
   "execution_count": 41,
   "id": "6afae929-c1fe-4147-b486-5831cb6af93d",
   "metadata": {},
   "outputs": [],
   "source": [
    "test_df['true'] = test_df['key_skills'].str.split(';')\n",
    "test_df['preds'] = test_df['extracted_key_skills'].str.split(';')"
   ]
  },
  {
   "cell_type": "code",
   "execution_count": 52,
   "id": "3929a33f-fcf4-48b3-a413-66cce7d6183b",
   "metadata": {},
   "outputs": [],
   "source": [
    "def pretransform_keyskills(keyskills):\n",
    "    keyskills = [keyskill.lower() for keyskill in keyskills]\n",
    "    keyskills = [keyskill.replace('sql','sl') for keyskill in keyskills]\n",
    "    \n",
    "    return keyskills"
   ]
  },
  {
   "cell_type": "code",
   "execution_count": 53,
   "id": "fe7d24aa-de73-431e-9637-4422827ed255",
   "metadata": {},
   "outputs": [],
   "source": [
    "# Testing\n",
    "# true, preds = test_df['true'][0], test_df['preds'][0]\n",
    "# true = set(true)\n",
    "# preds = set(preds)\n",
    "\n",
    "def precision_score(raw):\n",
    "    true, preds = raw\n",
    "    true = set(true)\n",
    "    preds = set(preds)  \n",
    "    precision_score = len(true&preds)/len(preds)\n",
    "    return precision_score\n",
    "    \n",
    "def recall_score(raw):\n",
    "    true, preds = raw\n",
    "    true = set(true)\n",
    "    preds = set(preds)  \n",
    "    recall_score = len(true&preds)/len(true)\n",
    "    return recall_score"
   ]
  },
  {
   "cell_type": "code",
   "execution_count": 54,
   "id": "77384a49-dcaf-4364-85b9-9a52ae083aeb",
   "metadata": {},
   "outputs": [],
   "source": [
    "test_df['pretransformed_true'] = test_df['true'].apply(pretransform_keyskills)"
   ]
  },
  {
   "cell_type": "code",
   "execution_count": 55,
   "id": "f7c1f8c3-da12-4277-abbd-94694b6bf881",
   "metadata": {},
   "outputs": [],
   "source": [
    "test_df['precision'] = test_df[['pretransformed_true','preds']].apply(precision_score, axis = 1)\n",
    "test_df['recall'] = test_df[['pretransformed_true','preds']].apply(recall_score, axis = 1)"
   ]
  },
  {
   "cell_type": "code",
   "execution_count": 56,
   "id": "68b95270-9c96-4e7c-b922-40348e1dad1e",
   "metadata": {},
   "outputs": [
    {
     "data": {
      "text/plain": [
       "(0.5268279923407005, 0.3244892433380188)"
      ]
     },
     "execution_count": 56,
     "metadata": {},
     "output_type": "execute_result"
    }
   ],
   "source": [
    "test_df['precision'].mean(), test_df['recall'].mean()"
   ]
  },
  {
   "cell_type": "code",
   "execution_count": 58,
   "id": "521c2095-bd4d-4acd-8447-ca0bfe890430",
   "metadata": {},
   "outputs": [
    {
     "data": {
      "text/plain": [
       "(0.5268279923407005, 0.3244892433380188)"
      ]
     },
     "execution_count": 58,
     "metadata": {},
     "output_type": "execute_result"
    }
   ],
   "source": [
    "test_df['precision'].mean(), test_df['recall'].mean()"
   ]
  },
  {
   "cell_type": "code",
   "execution_count": null,
   "id": "308242c9-289e-4664-8122-73228987981f",
   "metadata": {},
   "outputs": [],
   "source": []
  },
  {
   "cell_type": "code",
   "execution_count": null,
   "id": "dfbc03fe-d9f7-4ef5-a676-a0f77a1ddd89",
   "metadata": {},
   "outputs": [],
   "source": []
  }
 ],
 "metadata": {
  "kernelspec": {
   "display_name": "Python 3 (ipykernel)",
   "language": "python",
   "name": "python3"
  },
  "language_info": {
   "codemirror_mode": {
    "name": "ipython",
    "version": 3
   },
   "file_extension": ".py",
   "mimetype": "text/x-python",
   "name": "python",
   "nbconvert_exporter": "python",
   "pygments_lexer": "ipython3",
   "version": "3.10.8"
  }
 },
 "nbformat": 4,
 "nbformat_minor": 5
}
