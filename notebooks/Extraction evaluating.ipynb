{
 "cells": [
  {
   "cell_type": "code",
   "execution_count": 74,
   "id": "ca66c1d9-c9ef-47a4-88d5-5741579d571c",
   "metadata": {},
   "outputs": [],
   "source": [
    "import pandas as pd"
   ]
  },
  {
   "cell_type": "code",
   "execution_count": 115,
   "id": "05d4867a-a2fc-4d64-ba6d-a1fe6afd9da4",
   "metadata": {},
   "outputs": [],
   "source": [
    "test_df = pd.read_csv('../data/it_dataset_test_search.csv')"
   ]
  },
  {
   "cell_type": "code",
   "execution_count": 116,
   "id": "dd719962-0423-4d1e-83fe-e93965fef3e9",
   "metadata": {},
   "outputs": [],
   "source": [
    "test_df_nn = pd.read_csv('../data/it_test_dataset_sample_result.csv')"
   ]
  },
  {
   "cell_type": "code",
   "execution_count": 117,
   "id": "d759525e-fb4b-4a5c-a2c7-cb732c4171d5",
   "metadata": {},
   "outputs": [],
   "source": [
    "test_df['extracted_key_skills'] = test_df['extracted_key_skills']+';'+test_df_nn['extracted_key_skills']"
   ]
  },
  {
   "cell_type": "code",
   "execution_count": 118,
   "id": "6afae929-c1fe-4147-b486-5831cb6af93d",
   "metadata": {},
   "outputs": [],
   "source": [
    "test_df['true'] = test_df['key_skills'].str.split(';')\n",
    "test_df['preds'] = test_df['extracted_key_skills'].str.split(';')\n",
    "test_df['preds'] = test_df['preds'].fillna('')"
   ]
  },
  {
   "cell_type": "code",
   "execution_count": 119,
   "id": "3929a33f-fcf4-48b3-a413-66cce7d6183b",
   "metadata": {},
   "outputs": [],
   "source": [
    "def pretransform_keyskills(keyskills):\n",
    "    keyskills = [keyskill.lower() for keyskill in keyskills]\n",
    "    # keyskills = [keyskill.replace('sql','sl') for keyskill in keyskills]\n",
    "    \n",
    "    return keyskills"
   ]
  },
  {
   "cell_type": "code",
   "execution_count": 120,
   "id": "fe7d24aa-de73-431e-9637-4422827ed255",
   "metadata": {},
   "outputs": [],
   "source": [
    "# Testing\n",
    "# true, preds = test_df['true'][0], test_df['preds'][0]\n",
    "# true = set(true)\n",
    "# preds = set(preds)\n",
    "\n",
    "def precision_score(raw):\n",
    "    true, preds = raw\n",
    "    true = set(true)\n",
    "    preds = set(preds)  \n",
    "    if len(preds) == 0:\n",
    "        return 0\n",
    "    precision_score = len(true&preds)/len(preds)\n",
    "    return precision_score\n",
    "    \n",
    "def recall_score(raw):\n",
    "    true, preds = raw\n",
    "    true = set(true)\n",
    "    preds = set(preds)  \n",
    "    recall_score = len(true&preds)/len(true)\n",
    "    return recall_score"
   ]
  },
  {
   "cell_type": "code",
   "execution_count": 121,
   "id": "77384a49-dcaf-4364-85b9-9a52ae083aeb",
   "metadata": {},
   "outputs": [],
   "source": [
    "test_df['pretransformed_true'] = test_df['true'].apply(pretransform_keyskills)\n",
    "test_df['pretransformed_preds'] = test_df['preds'].apply(pretransform_keyskills)"
   ]
  },
  {
   "cell_type": "code",
   "execution_count": 122,
   "id": "f7c1f8c3-da12-4277-abbd-94694b6bf881",
   "metadata": {},
   "outputs": [],
   "source": [
    "test_df['precision'] = test_df[['pretransformed_true','pretransformed_preds']].apply(precision_score, axis = 1)\n",
    "test_df['recall'] = test_df[['pretransformed_true','pretransformed_preds']].apply(recall_score, axis = 1)"
   ]
  },
  {
   "cell_type": "code",
   "execution_count": 123,
   "id": "68b95270-9c96-4e7c-b922-40348e1dad1e",
   "metadata": {},
   "outputs": [
    {
     "data": {
      "text/plain": [
       "(0.33918440638650293, 0.46074998847797743)"
      ]
     },
     "execution_count": 123,
     "metadata": {},
     "output_type": "execute_result"
    }
   ],
   "source": [
    "test_df['precision'].mean(), test_df['recall'].mean()"
   ]
  },
  {
   "cell_type": "code",
   "execution_count": null,
   "id": "521c2095-bd4d-4acd-8447-ca0bfe890430",
   "metadata": {},
   "outputs": [],
   "source": [
    "test_df['precision'].mean(), test_df['recall'].mean()"
   ]
  },
  {
   "cell_type": "code",
   "execution_count": 73,
   "id": "269e8eda-45e6-46af-ad63-5185b10a43e0",
   "metadata": {},
   "outputs": [
    {
     "name": "stdout",
     "output_type": "stream",
     "text": [
      "0.2727272727272727\n",
      "C/C++;Java;SQL;Тестирование;Базы данных;С++;Готовность обучаться;Нагрузочное тестирование;HTTP;Oracle DB;Работа с банками\n",
      "Разработка;Работа с базами данных;C#;программирование;SQL;Анализ;Обучение;ПО;C/C++;С;Java;ИТ\n",
      "####################\n",
      "0.08333333333333333\n",
      "Яндекс.Директ;Google Analytics;Интернет-реклама;Управление интернет-проектами;Internet Marketing;Яндекс.Метрика;Управление проектами;Контекстная реклама;Умение работать с людьми;Поставленная речь;Умение работать в условиях многозадачности;Грамотная письменная речь\n",
      "Контроль качества;Грамотная устная и письменная речь;Высшее образование;выявление потребностей;Ведение отчетности;Постановка задач;ПО;Коммуникация;С;Яндекс.Директ;ИТ\n",
      "####################\n",
      "0.1\n",
      "Базы данных;1C: Управление торговлей;1С: Управление Торговлей;1С: Управление предприятием;1С программирование;1C: Предприятие;Создание конфигурации 1С;1С: Зарплата и управление персоналом;1С: Бухгалтерия предприятия;1С: Предприятие 8\n",
      "Разработка;Битрикс;1с;ЗУП;удаленная работа;ПО;1С: Управление Торговлей;С;ИТ;Консультирование\n",
      "####################\n",
      "0.625\n",
      "Vue;CSS;HTML5;Less;Git;JavaScript;PHP;Работа в команде\n",
      "docker;Docker-compose;Проектирование;разработчик;Git;COM;Less;typescript;JavaScript;VUE;Работа в команде;ПО;WEB;Разработка;Vue.JS;code review;удаленно;js;ППА;HTTPS;ES6;SASS/SCSS;С;ИТ\n",
      "####################\n",
      "0.125\n",
      "Управление проектами;Управление рисками;Agile Project Management;Бизнес-анализ;Аналитическое мышление;Project management;Анализ данных;Анализ рисков\n",
      "Коммуникабельность; стрессоустойчивость;Достижение целей;Высшее образование;Планирование работ;Планирование;Development;Управление рисками;Контроль;Анализ;Аналитический склад ума;ПО;умение работать в команде;Информационные системы;Лидерские качества;С;agile;ИТ\n",
      "####################\n",
      "0.08333333333333333\n",
      "Работа в команде;Проведение презентаций;Разработка нового продукта;MS PowerPoint;Подготовка презентаций;Коммуникативные навыки;Режим многозадачности;Уверенный пользователь Microsoft Office;Внимательность к деталям; способность работать с большими массивами информации;Коммуникабельность; стрессоустойчивость\n",
      "Разработка;Проведение презентаций;Управление ассортиментом;Маркетинг;Анализ;ПО;Умение работать в режиме многозадачности;С;ИТ\n",
      "####################\n",
      "0.4666666666666667\n",
      "Мобильность;Мобильные приложения;Умение брать на себя ответственность;JSON;Node.js;NodeJS;SQL;XML;PHP;MySQL;PostgreSQL;Laravel;iOS;Backend;API\n",
      "Redis;Спорт;разработчик;API;C++;iOS;Android;ПО;PostgreSQL;Разработка;Технолог;laravel;удаленно;js; Python;Сервис;NodeJS;swift;vuejs;backend;MySQL;С;Java;ИТ\n",
      "####################\n",
      "0.875\n",
      "Git;REST;React;TypeScript;ES6;GraphQL;SPA;MongoDB\n",
      "Разработка;frontend;ГИС;react;REST;разработчик;SPA;ПО;MongoDB;Git;GraphQL;С;typescript;Developer;Сервис\n",
      "####################\n",
      "0.0\n",
      "Проведение промо акций;Аналитические исследования;Умение работать в коллективе;1С: Торговля;Работа в условиях многозадачности;Exsel;Желание работать и зарабатывать;Организаторские навыки;Ведение переговоров;Активные продажи;Претензионная работа с клиентами; работа с возражениями\n",
      "Знание программы 1С;Знание программ;Торговля;Анализ;Контроль;ПО; склад;С;Аналитик;ИТ\n",
      "####################\n",
      "0.07692307692307693\n",
      "Информационные технологии;Автоматизированное рабочее место (АРМ);Проведение тестирований;Опытный пользователь ПК;Опытный пользователь ПК; знание MS Office;Microsoft Windows;выездная работа;Выездное обслуживание;Техническое обслуживание;Ремонт техники;Техническая поддержка;Настройка ПК;Ремонт ПК\n",
      "Техническая поддержка;Уверенный пользователь ПК;ПК;Терминалы Сбора Данных;it;Диагностика;Тестирование;ККТ;Обучение;Контроль;ОС Windows;ПО;C;С;Ремонт;Принтер;Сервис\n",
      "####################\n",
      "0.375\n",
      "Дизайн;BIM;Autodesk Revit;Работа с чертежами;Revit;Проектная документация;Рабочая документация;Проектирование\n",
      "Дизайнер;Autodesk Revit;Revit;разработка чертежей;Моделирование;ПО;Дизайн интерьера;BIM;С;архитектор;ИТ\n",
      "####################\n",
      "0.375\n",
      "Рисунок;Adobe Photoshop;Графика;Фотомонтаж;Графический дизайн;Дизайн;Графические редакторы;Работа в команде\n",
      "Обработка фото;Дизайнер;Фото;Рисование;Рисунок;ПО;Фотомонтаж;С;Adobe Photoshop;ИТ\n",
      "####################\n",
      "0.1\n",
      "Linux;Python;Go;Ansible;Kubernetes;Docker;Git;Jenkins;Gitlab CI;PostgreSQL\n",
      "middle;SRE;Спорт;Git;C;graylog;ПО;Инвестиции;Технолог;Мониторинг;it; Linux; принимать решения;Splunk;Автоматизация;ELK;Сервис;ML;Страхование;С;ИТ\n",
      "####################\n",
      "0.0\n",
      "Excel;Экономический анализ;Аналитическое мышление;Управленческая отчетность;Подготовка отчетов;План-фактный анализ бюджета;MS PowerPoint;Анализ текущей ситуации\n",
      "Спортивные мероприятия;Разработка;MS Word;Менеджмент;Высшее образование;Power Point;Power BI;Анализ;ПО;Power Query;Связь;Умение работать в режиме многозадачности;С;MS Excel;Готовность к командировкам;ИТ\n",
      "####################\n",
      "0.10526315789473684\n",
      "Тайм-менеджмент;Деловая коммуникация;Удаленная работа;Коммуникация;Работа в условиях многозадачности;Умение работать в условиях многозадачности;Навыки планирования;Проведение презентаций;Подготовка презентаций;Навыки презентации;MS PowerPoint;Организация презентаций;MS Outlook;Презентационные навыки;Переговоры;Уверенный пользователь MS Office;Эффективность;Образованность;Опыт работы с документацией\n",
      "Высшее образование;Торговый маркетинг;Инициативность; ответственность;Мобильность;НСИ;Проектный менеджмент;Бюджетирование;Контроль;MS Office;ПО;Подготовка презентаций;Отличное знание ПК;удаленная работа;С;менеджер проектов;ИТ\n",
      "####################\n",
      "0.2\n",
      "Adobe Photoshop;Adobe Illustrator;Adobe After Effect;Figma;Tilda;Производство рекламных роликов;Digital Marketing;Cоциальная реклама;Реклама;Креативность\n",
      "Аудит;Самостоятельность;figma;Маркетинг;Usability;ПО;Технолог;tilda;Photoshop;Дизайн; ответственность;After Effects;ПК;YouTube;умение работать в команде;Instagram;Активность;С;ИТ\n",
      "####################\n",
      "0.0\n",
      "1С: Предприятие 8;1С программирование;Управление временем;Грамотная устная и письменная речь;Продвинутый пользователь ПК;Основы программирования;Отличное знание ПК;1С: Зарплата и управление персоналом;Обновление конфигурации 1С;1C: Предприятие;Создание конфигурации 1С;Работа в условиях многозадачности\n",
      "Консультирование;Разработка;ПК;1с;ПО;С;Связь;ИТ\n",
      "####################\n",
      "0.09090909090909091\n",
      "Active Directory;Администрирование сетевого оборудования;Windows Os;Настройка DNS;Умение расставлять приоритеты;Администрирование серверов Windows;Настройка ПК;Техническое обслуживание;Локальные сети;Настройка сетевых подключений;Настройка ПО\n",
      "Правильно расставлять приоритеты;Исполнительность;Active Directory;Грамотная речь;Принтер;Техническая поддержка;Администрирование серверов;Коммуникабельность;Стрессоустойчивость;ТЗ;ПО;Мониторинг;Высшее образование;Компьютер;ППА;Сервис;сетевое оборудование;Умение находить общий язык;windows; GPO;Сканер;С;ИТ\n",
      "####################\n",
      "0.25\n",
      "Функциональное тестирование;Jira;Тестирование;Ручное тестирование;QA;Postman;Atlassian Confluence;Тестирование пользовательского интерфейса\n",
      "Тест-дизайн;JIRA;Scrum;it;Базовые знания SQL;Тестирование;разработчик;Обучение;XML;ПО;аналитика;json;С;agile;Сервис;ИТ\n",
      "####################\n",
      "0.2727272727272727\n",
      "Adobe Illustrator;Adobe Photoshop;Графический дизайн;Дизайн;Figma;HTML;CSS;Digital Marketing;Работа в команде;Обработка изображений;Adobe InDesign\n",
      "HTML/CSS;Дизайнер;figma;удаленная работа;InDesign;Реклама;ПО;UX/UI;Соблюдение сроков;WEB;Аккуратность;Дизайн;ФТ;AI;After Effects;Графический дизайн;НСИ;С;ИТ\n",
      "####################\n"
     ]
    }
   ],
   "source": [
    "for i, row in test_df.iloc[0:20].iterrows():\n",
    "    print(row.recall)\n",
    "    print(row.key_skills)\n",
    "    print(row.extracted_key_skills)    \n",
    "    print('#'*20)"
   ]
  },
  {
   "cell_type": "code",
   "execution_count": null,
   "id": "308242c9-289e-4664-8122-73228987981f",
   "metadata": {},
   "outputs": [],
   "source": []
  },
  {
   "cell_type": "code",
   "execution_count": null,
   "id": "dfbc03fe-d9f7-4ef5-a676-a0f77a1ddd89",
   "metadata": {},
   "outputs": [],
   "source": []
  }
 ],
 "metadata": {
  "kernelspec": {
   "display_name": "Python 3 (ipykernel)",
   "language": "python",
   "name": "python3"
  },
  "language_info": {
   "codemirror_mode": {
    "name": "ipython",
    "version": 3
   },
   "file_extension": ".py",
   "mimetype": "text/x-python",
   "name": "python",
   "nbconvert_exporter": "python",
   "pygments_lexer": "ipython3",
   "version": "3.10.8"
  }
 },
 "nbformat": 4,
 "nbformat_minor": 5
}
