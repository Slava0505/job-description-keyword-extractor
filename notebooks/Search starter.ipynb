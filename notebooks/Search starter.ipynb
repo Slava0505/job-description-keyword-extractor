{
 "cells": [
  {
   "cell_type": "code",
   "execution_count": 28,
   "id": "fe9da379-e778-4b80-8f77-bc1c90c799ea",
   "metadata": {},
   "outputs": [],
   "source": [
    "import pandas as pd\n",
    "\n",
    "df = pd.read_csv('../data/it_dataset.csv')\n",
    "df = df[df['description'].apply(len)<2000]\n",
    "\n",
    "df_train, df_test = df.iloc[:45000], df.iloc[45000:]"
   ]
  },
  {
   "cell_type": "code",
   "execution_count": 29,
   "id": "dc79f770-8ae1-46bb-a898-05898adbe836",
   "metadata": {},
   "outputs": [
    {
     "name": "stderr",
     "output_type": "stream",
     "text": [
      "/tmp/ipykernel_401890/1578208901.py:1: SettingWithCopyWarning: \n",
      "A value is trying to be set on a copy of a slice from a DataFrame.\n",
      "Try using .loc[row_indexer,col_indexer] = value instead\n",
      "\n",
      "See the caveats in the documentation: https://pandas.pydata.org/pandas-docs/stable/user_guide/indexing.html#returning-a-view-versus-a-copy\n",
      "  df_train['key_skills_list'] = df_train['key_skills'].str.split(';')\n"
     ]
    }
   ],
   "source": [
    "df_train['key_skills_list'] = df_train['key_skills'].str.split(';')"
   ]
  },
  {
   "cell_type": "code",
   "execution_count": 41,
   "id": "f0eb72ab-33de-474a-bcdc-43b15a7b829b",
   "metadata": {},
   "outputs": [],
   "source": [
    "all_key_skills = df_train['key_skills_list'].apply(pd.Series).stack().reset_index(drop=True)\n",
    "all_key_skills_counts = all_key_skills.value_counts()"
   ]
  },
  {
   "cell_type": "code",
   "execution_count": 42,
   "id": "036b4482-ec3b-4fb2-b1f0-5da4d18f26d3",
   "metadata": {},
   "outputs": [],
   "source": [
    "all_key_skills_counts = all_key_skills_counts[all_key_skills_counts>50]"
   ]
  },
  {
   "cell_type": "code",
   "execution_count": 43,
   "id": "d0ff9660-7711-4007-97c6-79401a983a1a",
   "metadata": {},
   "outputs": [
    {
     "data": {
      "text/plain": [
       "'Обязанности:  анализ документации и работа со статистикой; разработка нагрузочных скриптов (Java или C#) ; запуск тестов и анализ результатов, написание отчетов и составление документации; А также: разработка заглушек и эмуляторов, разработка утилит для генерации данных, работа с базами данных.  Требования:  уверенное знание одного из языков программирование: C/C++, Java, C#, Phython; умение работать с базами данных на уровне написания простейших SQL-запросов; знание архитектур приложений (толстый/тонкий клиент); возможность работать полный рабочий день.  Условия:  работа в молодом активном коллективе; конкурентная заработная плата, оформление по ТК РФ; постоянное обучение внутри компании; возможность профессионального роста; участие в тестировании ПО в крупных российских банках.    Первый этап - собеседование по онлайн.'"
      ]
     },
     "execution_count": 43,
     "metadata": {},
     "output_type": "execute_result"
    }
   ],
   "source": [
    "df_test.description.iloc[0]"
   ]
  },
  {
   "cell_type": "code",
   "execution_count": 44,
   "id": "429550cd-d26a-4b79-ad73-03432fff46c1",
   "metadata": {},
   "outputs": [
    {
     "name": "stdout",
     "output_type": "stream",
     "text": [
      "['Java', 'C#', 'Работа с базами данных', 'программирование', 'C/C++', 'Java', 'C#', 'SQL', 'Обучение']\n"
     ]
    }
   ],
   "source": [
    "from flashtext.keyword import KeywordProcessor\n",
    "keyword_processor = KeywordProcessor()\n",
    "for key_skill in all_key_skills_counts.index:\n",
    "    keyword_processor.add_keyword(key_skill)\n",
    "    \n",
    "keywords_found = keyword_processor.extract_keywords('Обязанности:  анализ документации и работа со статистикой; разработка нагрузочных скриптов (Java или C#) ; запуск тестов и анализ результатов, написание отчетов и составление документации; А также: разработка заглушек и эмуляторов, разработка утилит для генерации данных, работа с базами данных.  Требования:  уверенное знание одного из языков программирование: C/C++, Java, C#, Phython; умение работать с базами данных на уровне написания простейших SQL-запросов; знание архитектур приложений (толстый/тонкий клиент); возможность работать полный рабочий день.  Условия:  работа в молодом активном коллективе; конкурентная заработная плата, оформление по ТК РФ; постоянное обучение внутри компании; возможность профессионального роста; участие в тестировании ПО в крупных российских банках.    Первый этап - собеседование по онлайн.')\n",
    "print(keywords_found)"
   ]
  },
  {
   "cell_type": "code",
   "execution_count": 45,
   "id": "a3b52493-657a-4e47-85d7-ec191a654ec7",
   "metadata": {},
   "outputs": [
    {
     "name": "stderr",
     "output_type": "stream",
     "text": [
      "/tmp/ipykernel_401890/3355085020.py:1: SettingWithCopyWarning: \n",
      "A value is trying to be set on a copy of a slice from a DataFrame.\n",
      "Try using .loc[row_indexer,col_indexer] = value instead\n",
      "\n",
      "See the caveats in the documentation: https://pandas.pydata.org/pandas-docs/stable/user_guide/indexing.html#returning-a-view-versus-a-copy\n",
      "  df_test['extracted_key_skills'] = df_test['description'].apply(lambda x: ';'.join(list(set(keyword_processor.extract_keywords(x)))))\n"
     ]
    }
   ],
   "source": [
    "df_test['extracted_key_skills'] = df_test['description'].apply(lambda x: ';'.join(list(set(keyword_processor.extract_keywords(x)))))"
   ]
  },
  {
   "cell_type": "code",
   "execution_count": 46,
   "id": "f5e10450-e7ec-4ad2-9c03-3f6b9aa0e5d7",
   "metadata": {},
   "outputs": [
    {
     "data": {
      "text/plain": [
       "73582    Работа с базами данных;C#;программирование;SQL...\n",
       "73583    Контроль качества;Грамотная устная и письменна...\n",
       "73585    Консультирование;1С;Удаленная работа;1С: Управ...\n",
       "73588    ES6;docker;Web;JavaScript;vue;Docker-compose;П...\n",
       "73589    Коммуникабельность; стрессоустойчивость;Высшее...\n",
       "                               ...                        \n",
       "83362    Уверенный пользователь ПК;Грамотная устная и п...\n",
       "83368    Поиск и привлечение клиентов;Высокие коммуника...\n",
       "83371    VueJS;ООП;Yii2;Дизайнер;Node.js;React/Redux;Ра...\n",
       "83373                                Компьютер;1С;Ethernet\n",
       "83374    Опытный пользователь ПК;Высшее образование;MPL...\n",
       "Name: extracted_key_skills, Length: 5705, dtype: object"
      ]
     },
     "execution_count": 46,
     "metadata": {},
     "output_type": "execute_result"
    }
   ],
   "source": [
    "df_test['extracted_key_skills']"
   ]
  },
  {
   "cell_type": "code",
   "execution_count": 47,
   "id": "01c2168b-061f-49cc-b089-def8c714c7d8",
   "metadata": {},
   "outputs": [],
   "source": [
    "df_test.to_csv('../data/it_dataset_test_search.csv', index = False)"
   ]
  },
  {
   "cell_type": "code",
   "execution_count": null,
   "id": "3c2c466a-3e0f-4ae6-8e42-47d4efdf754f",
   "metadata": {},
   "outputs": [],
   "source": []
  },
  {
   "cell_type": "code",
   "execution_count": null,
   "id": "30856b09-fe38-4b6e-a818-6c20c6204b0d",
   "metadata": {},
   "outputs": [],
   "source": []
  },
  {
   "cell_type": "code",
   "execution_count": null,
   "id": "54b781ba-4b1b-4fe9-92e7-733c318fea77",
   "metadata": {},
   "outputs": [],
   "source": []
  }
 ],
 "metadata": {
  "kernelspec": {
   "display_name": "Python 3 (ipykernel)",
   "language": "python",
   "name": "python3"
  },
  "language_info": {
   "codemirror_mode": {
    "name": "ipython",
    "version": 3
   },
   "file_extension": ".py",
   "mimetype": "text/x-python",
   "name": "python",
   "nbconvert_exporter": "python",
   "pygments_lexer": "ipython3",
   "version": "3.10.8"
  }
 },
 "nbformat": 4,
 "nbformat_minor": 5
}
