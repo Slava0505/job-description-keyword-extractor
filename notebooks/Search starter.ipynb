{
 "cells": [
  {
   "cell_type": "code",
   "execution_count": 107,
   "id": "fe9da379-e778-4b80-8f77-bc1c90c799ea",
   "metadata": {},
   "outputs": [],
   "source": [
    "import pandas as pd\n",
    "import numpy as np\n",
    "\n",
    "df = pd.read_csv('../data/data.csv')\n",
    "\n"
   ]
  },
  {
   "cell_type": "code",
   "execution_count": 109,
   "id": "f720c3f9-e08a-4ce8-96eb-9105dcd94e0b",
   "metadata": {},
   "outputs": [
    {
     "name": "stderr",
     "output_type": "stream",
     "text": [
      "/tmp/ipykernel_401890/3459542558.py:4: FutureWarning: The default value of regex will change from True to False in a future version. In addition, single character regular expressions will *not* be treated as literal strings when regex=True.\n",
      "  df['key_skills'] = df['key_skills'].str.replace('{','').str.replace('}','').str.replace('\"','')\n"
     ]
    }
   ],
   "source": [
    "# For full dataset\n",
    "\n",
    "df['key_skills'] = df['key_skills'].fillna('')\n",
    "df['key_skills'] = df['key_skills'].str.replace('{','').str.replace('}','').str.replace('\"','')\n",
    "df['key_skills_list'] = df['key_skills'].str.split(',')\n",
    "df['key_skills'] = df['key_skills'].str.replace(';',',')\n",
    "df['key_skills'] = df['key_skills_list'].str.join(';')\n",
    "\n",
    "\n",
    "## description cleaning\n",
    "\n",
    "import re\n",
    "CLEANR = re.compile('<.*?>') \n",
    "\n",
    "def cleanhtml(raw_html):\n",
    "    cleantext = re.sub(CLEANR, '', raw_html)\n",
    "    return cleantext\n",
    "\n",
    "df['description'] = df['description'].apply(cleanhtml)\n",
    "\n",
    "df_train, df_test = df.iloc[:700000], df.iloc[700000:]"
   ]
  },
  {
   "cell_type": "code",
   "execution_count": 110,
   "id": "7d8e8766-3d00-44ee-bebb-9d9877990886",
   "metadata": {},
   "outputs": [],
   "source": [
    "# For IT dataset\n",
    "# df = df[df['description'].apply(len)<2000]\n",
    "# df_train, df_test = df.iloc[:45000], df.iloc[45000:]"
   ]
  },
  {
   "cell_type": "code",
   "execution_count": 111,
   "id": "dc79f770-8ae1-46bb-a898-05898adbe836",
   "metadata": {},
   "outputs": [
    {
     "name": "stderr",
     "output_type": "stream",
     "text": [
      "/tmp/ipykernel_401890/1578208901.py:1: SettingWithCopyWarning: \n",
      "A value is trying to be set on a copy of a slice from a DataFrame.\n",
      "Try using .loc[row_indexer,col_indexer] = value instead\n",
      "\n",
      "See the caveats in the documentation: https://pandas.pydata.org/pandas-docs/stable/user_guide/indexing.html#returning-a-view-versus-a-copy\n",
      "  df_train['key_skills_list'] = df_train['key_skills'].str.split(';')\n"
     ]
    }
   ],
   "source": [
    "df_train['key_skills_list'] = df_train['key_skills'].str.split(';')"
   ]
  },
  {
   "cell_type": "code",
   "execution_count": 112,
   "id": "dddaca63-6117-41a2-8e92-658b74a436ed",
   "metadata": {},
   "outputs": [],
   "source": [
    "all_key_skills = []\n",
    "for key_skills in df_train['key_skills_list']:\n",
    "    all_key_skills+=key_skills\n",
    "all_key_skills = pd.Series(all_key_skills)"
   ]
  },
  {
   "cell_type": "code",
   "execution_count": 113,
   "id": "f0eb72ab-33de-474a-bcdc-43b15a7b829b",
   "metadata": {},
   "outputs": [],
   "source": [
    "all_key_skills_counts = all_key_skills.value_counts()"
   ]
  },
  {
   "cell_type": "code",
   "execution_count": 117,
   "id": "036b4482-ec3b-4fb2-b1f0-5da4d18f26d3",
   "metadata": {},
   "outputs": [],
   "source": [
    "all_key_skills_counts_filtred = all_key_skills_counts[all_key_skills_counts>100]"
   ]
  },
  {
   "cell_type": "code",
   "execution_count": 118,
   "id": "429550cd-d26a-4b79-ad73-03432fff46c1",
   "metadata": {},
   "outputs": [
    {
     "name": "stdout",
     "output_type": "stream",
     "text": [
      "['Анализ', 'работа со статистикой', 'ПТО', 'Java', 'C#', 'Анализ', 'Работа с базами данных', 'программирование', 'C/C++', 'Java', 'C#', 'Работа', 'SQL', 'ТУ', 'Работа', 'рабочий', 'Работа', 'ТК РФ', 'Обучение', 'Банк', 'Собеседование']\n"
     ]
    }
   ],
   "source": [
    "from flashtext.keyword import KeywordProcessor\n",
    "keyword_processor = KeywordProcessor()\n",
    "for key_skill in all_key_skills_counts_filtred.index:\n",
    "    keyword_processor.add_keyword(key_skill)\n",
    "    keyword_processor.add_keyword(key_skill)\n",
    "    \n",
    "    \n",
    "keywords_found = keyword_processor.extract_keywords('Обязанности:  анализ документации и работа со статистикой; разработка нагрузочных скриптов (Java или C#) ; запуск тестов и анализ результатов, написание отчетов и составление документации; А также: разработка заглушек и эмуляторов, разработка утилит для генерации данных, работа с базами данных.  Требования:  уверенное знание одного из языков программирование: C/C++, Java, C#, Phython; умение работать с базами данных на уровне написания простейших SQL-запросов; знание архитектур приложений (толстый/тонкий клиент); возможность работать полный рабочий день.  Условия:  работа в молодом активном коллективе; конкурентная заработная плата, оформление по ТК РФ; постоянное обучение внутри компании; возможность профессионального роста; участие в тестировании ПО в крупных российских банках.    Первый этап - собеседование по онлайн.')\n",
    "print(keywords_found)"
   ]
  },
  {
   "cell_type": "code",
   "execution_count": 119,
   "id": "a3b52493-657a-4e47-85d7-ec191a654ec7",
   "metadata": {},
   "outputs": [
    {
     "name": "stdout",
     "output_type": "stream",
     "text": [
      "CPU times: user 1min 46s, sys: 174 ms, total: 1min 47s\n",
      "Wall time: 1min 47s\n"
     ]
    },
    {
     "name": "stderr",
     "output_type": "stream",
     "text": [
      "<timed exec>:1: SettingWithCopyWarning: \n",
      "A value is trying to be set on a copy of a slice from a DataFrame.\n",
      "Try using .loc[row_indexer,col_indexer] = value instead\n",
      "\n",
      "See the caveats in the documentation: https://pandas.pydata.org/pandas-docs/stable/user_guide/indexing.html#returning-a-view-versus-a-copy\n"
     ]
    }
   ],
   "source": [
    "%%time\n",
    "df_test['extracted_key_skills'] = df_test['description'].apply(lambda x: ';'.join(list(set(keyword_processor.extract_keywords(x)))))"
   ]
  },
  {
   "cell_type": "code",
   "execution_count": 120,
   "id": "01c2168b-061f-49cc-b089-def8c714c7d8",
   "metadata": {},
   "outputs": [],
   "source": [
    "df_test.to_csv('../data/full_dataset_test_search.csv', index = False)"
   ]
  }
 ],
 "metadata": {
  "kernelspec": {
   "display_name": "Python 3 (ipykernel)",
   "language": "python",
   "name": "python3"
  },
  "language_info": {
   "codemirror_mode": {
    "name": "ipython",
    "version": 3
   },
   "file_extension": ".py",
   "mimetype": "text/x-python",
   "name": "python",
   "nbconvert_exporter": "python",
   "pygments_lexer": "ipython3",
   "version": "3.10.8"
  }
 },
 "nbformat": 4,
 "nbformat_minor": 5
}
