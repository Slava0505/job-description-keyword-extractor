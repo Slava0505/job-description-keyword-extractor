{
 "cells": [
  {
   "cell_type": "code",
   "execution_count": 1,
   "id": "2656cf43-61b4-496c-ad6c-de4f990813ad",
   "metadata": {},
   "outputs": [],
   "source": [
    "import psycopg2\n",
    "import pandas as pd\n",
    "\n",
    "import sys\n",
    "import os\n",
    "\n",
    "PACKAGE_PARENT = '.'\n",
    "SCRIPT_DIR = os.path.dirname(\n",
    "    os.path.realpath(os.path.join(os.getcwd(), os.path.expanduser(os.path.abspath(''))))\n",
    ")\n",
    "sys.path.append(os.path.normpath(os.path.join(SCRIPT_DIR, PACKAGE_PARENT)))\n",
    "\n",
    "from src.utils.database_config import database_config"
   ]
  },
  {
   "cell_type": "code",
   "execution_count": 2,
   "id": "8b3b62a1-8a8d-4cc5-93fd-2ed792209ee0",
   "metadata": {},
   "outputs": [],
   "source": [
    "params = database_config()"
   ]
  },
  {
   "cell_type": "code",
   "execution_count": 3,
   "id": "905347f3-1129-45a1-ac55-8b7b2eb409d6",
   "metadata": {},
   "outputs": [
    {
     "data": {
      "text/plain": [
       "{'host': 'localhost',\n",
       " 'database': 'hh',\n",
       " 'user': 'slava_b',\n",
       " 'password': 'asadas'}"
      ]
     },
     "execution_count": 3,
     "metadata": {},
     "output_type": "execute_result"
    }
   ],
   "source": [
    "params"
   ]
  },
  {
   "cell_type": "markdown",
   "id": "2a34c513-b9fc-4c21-8900-d83159b65c20",
   "metadata": {},
   "source": [
    "## Подгрузка финального датасета"
   ]
  },
  {
   "cell_type": "code",
   "execution_count": 103,
   "id": "bfbad657-c6a3-46f0-85df-3351de513345",
   "metadata": {},
   "outputs": [],
   "source": [
    "query = \"\"\"\n",
    "SELECT v.description, v.key_skills, v.name, v.area_id,v.published_at, v.professional_roles, v.experience,\n",
    "LENGTH(v.description),cardinality(v.key_skills) FROM vacancy_info v\n",
    "WHERE\n",
    "cardinality(v.key_skills)>7 AND\n",
    "LENGTH(v.description)>400\n",
    "\"\"\"\n",
    "\n",
    "outputquery = f\"COPY ({query}) TO STDOUT WITH CSV HEADER\""
   ]
  },
  {
   "cell_type": "code",
   "execution_count": 104,
   "id": "1910c25b-6298-47dd-a4cd-16cdefc94c0f",
   "metadata": {},
   "outputs": [
    {
     "name": "stdout",
     "output_type": "stream",
     "text": [
      "База данных подключена\n"
     ]
    }
   ],
   "source": [
    "# con = psycopg2.connect(host=\"localhost\", port = 5432, database=\"suppliers\", user=\"postgres\", password=\"postgres\")\n",
    "\n",
    "con = psycopg2.connect(**params)\n",
    "# Create a new cursor\n",
    "cur = con.cursor()\n",
    "print (\"База данных подключена\")\n",
    "\n",
    "with open ('../data/data.csv',\"w\",encoding='utf-8') as file :\n",
    "    cur.copy_expert(outputquery, file)"
   ]
  },
  {
   "cell_type": "markdown",
   "id": "5858d868-391f-42d0-8485-ef8e3a4c5828",
   "metadata": {},
   "source": [
    "# Подгрузка ролей для выбора айтишных"
   ]
  },
  {
   "cell_type": "code",
   "execution_count": 123,
   "id": "0166fa5b-333b-40d8-9ec3-c923d94cc946",
   "metadata": {},
   "outputs": [],
   "source": [
    "query = \"\"\"\n",
    "SELECT * FROM professional_roles\n",
    "\"\"\"\n",
    "\n",
    "outputquery = f\"COPY ({query}) TO STDOUT WITH CSV HEADER\""
   ]
  },
  {
   "cell_type": "code",
   "execution_count": 124,
   "id": "9603af9c-c4ee-49ff-b6f1-a68f996240b7",
   "metadata": {},
   "outputs": [
    {
     "name": "stdout",
     "output_type": "stream",
     "text": [
      "База данных подключена\n"
     ]
    }
   ],
   "source": [
    "# con = psycopg2.connect(host=\"localhost\", port = 5432, database=\"suppliers\", user=\"postgres\", password=\"postgres\")\n",
    "\n",
    "con = psycopg2.connect(**params)\n",
    "# Create a new cursor\n",
    "cur = con.cursor()\n",
    "print (\"База данных подключена\")\n",
    "\n",
    "with open ('../data/roles.csv',\"w\",encoding='utf-8') as file :\n",
    "    cur.copy_expert(outputquery, file)"
   ]
  }
 ],
 "metadata": {
  "kernelspec": {
   "display_name": "Python 3 (ipykernel)",
   "language": "python",
   "name": "python3"
  },
  "language_info": {
   "codemirror_mode": {
    "name": "ipython",
    "version": 3
   },
   "file_extension": ".py",
   "mimetype": "text/x-python",
   "name": "python",
   "nbconvert_exporter": "python",
   "pygments_lexer": "ipython3",
   "version": "3.10.8"
  }
 },
 "nbformat": 4,
 "nbformat_minor": 5
}
