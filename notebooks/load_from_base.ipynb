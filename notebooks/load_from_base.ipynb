{
 "cells": [
  {
   "cell_type": "code",
   "execution_count": 3,
   "id": "2656cf43-61b4-496c-ad6c-de4f990813ad",
   "metadata": {},
   "outputs": [],
   "source": [
    "import pandas as pd"
   ]
  },
  {
   "cell_type": "code",
   "execution_count": null,
   "id": "20cbb308-0c2a-497c-bc35-5904b7eaa3ca",
   "metadata": {},
   "outputs": [],
   "source": [
    "import psycopg2\n",
    "from datetime import datetime\n",
    " \n",
    "current_datetime = datetime.now().date()\n",
    " \n",
    "con = psycopg2.connect(\n",
    "     database = 'postgres',\n",
    "     user     = 'postgres',\n",
    "     password = '123',\n",
    "     host = 'localhost',\n",
    "     port = '5432'\n",
    " )\n",
    "print (\"База данных подключена\")\n",
    "cur = con.cursor()\n",
    " \n",
    " \n",
    "current_datetime = str(current_datetime)\n",
    "sql = \"COPY (SELECT test FROM public.news_artiles)TO STDOUT WITH CSV DELIMITER ';'\"\n",
    "with open ('/Result/'+current_datetime+'.mrt',\"w\",encoding='utf-8') as file :\n",
    "    cur.copy_expert(sql, file)"
   ]
  }
 ],
 "metadata": {
  "kernelspec": {
   "display_name": "Python 3 (ipykernel)",
   "language": "python",
   "name": "python3"
  },
  "language_info": {
   "codemirror_mode": {
    "name": "ipython",
    "version": 3
   },
   "file_extension": ".py",
   "mimetype": "text/x-python",
   "name": "python",
   "nbconvert_exporter": "python",
   "pygments_lexer": "ipython3",
   "version": "3.10.8"
  }
 },
 "nbformat": 4,
 "nbformat_minor": 5
}
