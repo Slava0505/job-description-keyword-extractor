{
 "cells": [
  {
   "cell_type": "code",
   "execution_count": 12,
   "id": "2656cf43-61b4-496c-ad6c-de4f990813ad",
   "metadata": {},
   "outputs": [],
   "source": [
    "import psycopg2\n",
    "import pandas as pd\n",
    "\n",
    "import sys\n",
    "import os\n",
    "\n",
    "PACKAGE_PARENT = '.'\n",
    "SCRIPT_DIR = os.path.dirname(\n",
    "    os.path.realpath(os.path.join(os.getcwd(), os.path.expanduser(os.path.abspath(''))))\n",
    ")\n",
    "sys.path.append(os.path.normpath(os.path.join(SCRIPT_DIR, PACKAGE_PARENT)))\n",
    "\n",
    "from src.utils.database_config import database_config"
   ]
  },
  {
   "cell_type": "code",
   "execution_count": 13,
   "id": "8b3b62a1-8a8d-4cc5-93fd-2ed792209ee0",
   "metadata": {},
   "outputs": [],
   "source": [
    "params = database_config()"
   ]
  },
  {
   "cell_type": "code",
   "execution_count": 14,
   "id": "905347f3-1129-45a1-ac55-8b7b2eb409d6",
   "metadata": {},
   "outputs": [
    {
     "data": {
      "text/plain": [
       "{'host': '85.142.80.238',\n",
       " 'database': 'hh',\n",
       " 'user': 'slava_b',\n",
       " 'password': 'd042f4b4f5'}"
      ]
     },
     "execution_count": 14,
     "metadata": {},
     "output_type": "execute_result"
    }
   ],
   "source": [
    "params"
   ]
  },
  {
   "cell_type": "code",
   "execution_count": 15,
   "id": "f336d4fd-7459-4f90-9e9b-8c21f94f74af",
   "metadata": {},
   "outputs": [],
   "source": [
    "sql = \"COPY (SELECT test FROM public.news_artiles)TO STDOUT WITH CSV DELIMITER ';'\"\n",
    "\n",
    "query = \"\"\"\n",
    "    select *\n",
    "    from driving_distance ($$\n",
    "        select\n",
    "            gid as id,\n",
    "            start_id::int4 as source,\n",
    "            end_id::int4 as target,\n",
    "            shape_leng::double precision as cost\n",
    "        from network\n",
    "        $$, %s, %s, %s, %s\n",
    "    )\n",
    "\"\"\"\n",
    "\n",
    "outputquery = \"COPY ({0}) TO STDOUT WITH CSV HEADER\".format(query)"
   ]
  },
  {
   "cell_type": "code",
   "execution_count": 36,
   "id": "c230b672-9563-401c-93d2-3e11f55c0b48",
   "metadata": {},
   "outputs": [],
   "source": [
    "sql = \"COPY (SELECT test FROM public.news_artiles)TO STDOUT WITH CSV DELIMITER ';'\"\n",
    "\n",
    "query = \"\"\"\n",
    "    SELECT * FROM vacancy_info v\n",
    "    ORDER BY v.id DESC\n",
    "    LIMIT 50000\n",
    "\"\"\"\n",
    "\n",
    "outputquery = \"COPY ({0}) TO STDOUT WITH CSV HEADER\".format(query)"
   ]
  },
  {
   "cell_type": "code",
   "execution_count": 38,
   "id": "20cbb308-0c2a-497c-bc35-5904b7eaa3ca",
   "metadata": {},
   "outputs": [
    {
     "name": "stdout",
     "output_type": "stream",
     "text": [
      "База данных подключена\n"
     ]
    }
   ],
   "source": [
    "# con = psycopg2.connect(host=\"localhost\", port = 5432, database=\"suppliers\", user=\"postgres\", password=\"postgres\")\n",
    "\n",
    "con = psycopg2.connect(**params)\n",
    "# Create a new cursor\n",
    "cur = con.cursor()\n",
    "print (\"База данных подключена\")\n",
    "\n",
    "with open ('../data/test.csv',\"w\",encoding='utf-8') as file :\n",
    "    cur.copy_expert(outputquery, file)"
   ]
  },
  {
   "cell_type": "code",
   "execution_count": null,
   "id": "24912215-9d19-404e-bae0-536269fd5fcd",
   "metadata": {},
   "outputs": [],
   "source": []
  },
  {
   "cell_type": "code",
   "execution_count": null,
   "id": "ca90db8c-1db2-41d5-a7c4-2083299fe5cd",
   "metadata": {},
   "outputs": [],
   "source": []
  }
 ],
 "metadata": {
  "kernelspec": {
   "display_name": "Python 3 (ipykernel)",
   "language": "python",
   "name": "python3"
  },
  "language_info": {
   "codemirror_mode": {
    "name": "ipython",
    "version": 3
   },
   "file_extension": ".py",
   "mimetype": "text/x-python",
   "name": "python",
   "nbconvert_exporter": "python",
   "pygments_lexer": "ipython3",
   "version": "3.10.8"
  }
 },
 "nbformat": 4,
 "nbformat_minor": 5
}
