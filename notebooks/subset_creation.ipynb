{
 "cells": [
  {
   "cell_type": "code",
   "execution_count": 4,
   "id": "e17cfe8f-c18e-49ac-b765-ea9f864a71bc",
   "metadata": {},
   "outputs": [],
   "source": [
    "import pandas as pd"
   ]
  },
  {
   "cell_type": "code",
   "execution_count": 5,
   "id": "bce75c95-4780-484a-b738-465b84561858",
   "metadata": {},
   "outputs": [],
   "source": [
    "df = pd.read_csv('../data/data.csv')\n",
    "roles = pd.read_csv('../data/roles.csv')\n",
    "\n"
   ]
  },
  {
   "cell_type": "code",
   "execution_count": 39,
   "id": "26e5d658-cf0d-4e19-8acb-372ab58e1117",
   "metadata": {},
   "outputs": [],
   "source": [
    "df['professional_roles'] = df['professional_roles'].str.replace('{','').str.replace('}','').fillna(-1).astype(int)\n",
    "it_roles = list(roles[roles['category_name']=='Информационные технологии']['role_id'])\n",
    "it_mask = df['professional_roles'].isin(it_roles)\n",
    "\n",
    "it_dataset = df[it_mask]"
   ]
  },
  {
   "cell_type": "code",
   "execution_count": 53,
   "id": "036f206a-ecf9-4d5f-aaf7-d0a3d89446c0",
   "metadata": {},
   "outputs": [
    {
     "name": "stderr",
     "output_type": "stream",
     "text": [
      "/tmp/ipykernel_104867/3410396296.py:1: SettingWithCopyWarning: \n",
      "A value is trying to be set on a copy of a slice from a DataFrame.\n",
      "Try using .loc[row_indexer,col_indexer] = value instead\n",
      "\n",
      "See the caveats in the documentation: https://pandas.pydata.org/pandas-docs/stable/user_guide/indexing.html#returning-a-view-versus-a-copy\n",
      "  it_dataset['key_skills'] = it_dataset['key_skills'].fillna('')\n",
      "/tmp/ipykernel_104867/3410396296.py:2: FutureWarning: The default value of regex will change from True to False in a future version. In addition, single character regular expressions will *not* be treated as literal strings when regex=True.\n",
      "  it_dataset['key_skills'] = it_dataset['key_skills'].str.replace('{','').str.replace('}','').str.replace('\"','')\n",
      "/tmp/ipykernel_104867/3410396296.py:2: SettingWithCopyWarning: \n",
      "A value is trying to be set on a copy of a slice from a DataFrame.\n",
      "Try using .loc[row_indexer,col_indexer] = value instead\n",
      "\n",
      "See the caveats in the documentation: https://pandas.pydata.org/pandas-docs/stable/user_guide/indexing.html#returning-a-view-versus-a-copy\n",
      "  it_dataset['key_skills'] = it_dataset['key_skills'].str.replace('{','').str.replace('}','').str.replace('\"','')\n",
      "/tmp/ipykernel_104867/3410396296.py:3: SettingWithCopyWarning: \n",
      "A value is trying to be set on a copy of a slice from a DataFrame.\n",
      "Try using .loc[row_indexer,col_indexer] = value instead\n",
      "\n",
      "See the caveats in the documentation: https://pandas.pydata.org/pandas-docs/stable/user_guide/indexing.html#returning-a-view-versus-a-copy\n",
      "  it_dataset['key_skills_list'] = it_dataset['key_skills'].str.split(',')\n"
     ]
    }
   ],
   "source": [
    "it_dataset['key_skills'] = it_dataset['key_skills'].fillna('')\n",
    "it_dataset['key_skills'] = it_dataset['key_skills'].str.replace('{','').str.replace('}','').str.replace('\"','')\n",
    "it_dataset['key_skills_list'] = it_dataset['key_skills'].str.split(',')\n",
    "it_dataset['key_skills'] = it_dataset['key_skills_list'].str.join(';')"
   ]
  },
  {
   "cell_type": "code",
   "execution_count": 58,
   "id": "70922798-a7a4-4acd-9185-f14aaed06f24",
   "metadata": {},
   "outputs": [
    {
     "name": "stderr",
     "output_type": "stream",
     "text": [
      "/tmp/ipykernel_104867/2090887929.py:10: SettingWithCopyWarning: \n",
      "A value is trying to be set on a copy of a slice from a DataFrame.\n",
      "Try using .loc[row_indexer,col_indexer] = value instead\n",
      "\n",
      "See the caveats in the documentation: https://pandas.pydata.org/pandas-docs/stable/user_guide/indexing.html#returning-a-view-versus-a-copy\n",
      "  it_dataset['description'] = it_dataset['description'].apply(cleanhtml)\n"
     ]
    }
   ],
   "source": [
    "## description cleaning\n",
    "\n",
    "import re\n",
    "CLEANR = re.compile('<.*?>') \n",
    "\n",
    "def cleanhtml(raw_html):\n",
    "    cleantext = re.sub(CLEANR, '', raw_html)\n",
    "    return cleantext\n",
    "\n",
    "it_dataset['description'] = it_dataset['description'].apply(cleanhtml)"
   ]
  },
  {
   "cell_type": "code",
   "execution_count": 60,
   "id": "e73f7440-78ae-46d7-82e2-99fedc864672",
   "metadata": {},
   "outputs": [],
   "source": [
    "it_dataset[['description','key_skills']].to_csv('../data/it_dataset.csv', index = False)"
   ]
  }
 ],
 "metadata": {
  "kernelspec": {
   "display_name": "Python 3 (ipykernel)",
   "language": "python",
   "name": "python3"
  },
  "language_info": {
   "codemirror_mode": {
    "name": "ipython",
    "version": 3
   },
   "file_extension": ".py",
   "mimetype": "text/x-python",
   "name": "python",
   "nbconvert_exporter": "python",
   "pygments_lexer": "ipython3",
   "version": "3.10.8"
  }
 },
 "nbformat": 4,
 "nbformat_minor": 5
}
