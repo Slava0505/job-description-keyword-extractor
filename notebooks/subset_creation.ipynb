{
 "cells": [
  {
   "cell_type": "code",
   "execution_count": 4,
   "id": "e17cfe8f-c18e-49ac-b765-ea9f864a71bc",
   "metadata": {},
   "outputs": [],
   "source": [
    "import pandas as pd"
   ]
  },
  {
   "cell_type": "code",
   "execution_count": 5,
   "id": "bce75c95-4780-484a-b738-465b84561858",
   "metadata": {},
   "outputs": [],
   "source": [
    "df = pd.read_csv('../data/data.csv')\n",
    "df['professional_roles'] = df['professional_roles'].str.replace('{','').str.replace('}','').fillna(-1).astype(int)"
   ]
  },
  {
   "cell_type": "code",
   "execution_count": 39,
   "id": "26e5d658-cf0d-4e19-8acb-372ab58e1117",
   "metadata": {},
   "outputs": [],
   "source": [
    "roles = pd.read_csv('../data/roles.csv')"
   ]
  },
  {
   "cell_type": "code",
   "execution_count": 41,
   "id": "1792e12d-38af-46b5-8836-f5de90b8a085",
   "metadata": {},
   "outputs": [
    {
     "data": {
      "text/plain": [
       "Производство, сервисное обслуживание        18\n",
       "Информационные технологии                   17\n",
       "Рабочий персонал                            16\n",
       "Строительство, недвижимость                 16\n",
       "Продажи, обслуживание клиентов              15\n",
       "Маркетинг, реклама, PR                      12\n",
       "Искусство, развлечения, масс-медиа          10\n",
       "Медицина, фармацевтика                       9\n",
       "Высший менеджмент                            9\n",
       "Финансы, бухгалтерия                         8\n",
       "Транспорт, логистика, перевозки              8\n",
       "Административный персонал                    8\n",
       "Домашний, обслуживающий персонал             7\n",
       "Розничная торговля                           7\n",
       "Спортивные клубы, фитнес, салоны красоты     7\n",
       "Туризм, гостиницы, рестораны                 7\n",
       "Наука, образование                           5\n",
       "Безопасность                                 5\n",
       "Сельское хозяйство                           5\n",
       "Управление персоналом, тренинги              5\n",
       "Добыча сырья                                 5\n",
       "Автомобильный бизнес                         4\n",
       "Стратегия, инвестиции, консалтинг            4\n",
       "Страхование                                  3\n",
       "Закупки                                      2\n",
       "Юристы                                       2\n",
       "Другое                                       1\n",
       "Name: category_name, dtype: int64"
      ]
     },
     "execution_count": 41,
     "metadata": {},
     "output_type": "execute_result"
    }
   ],
   "source": [
    "roles['category_name'].value_counts()"
   ]
  },
  {
   "cell_type": "code",
   "execution_count": 45,
   "id": "2c3511c9-08b4-40bb-a0bd-92242de07724",
   "metadata": {},
   "outputs": [],
   "source": [
    "it_roles = list(roles[roles['category_name']=='Информационные технологии']['role_id'])\n",
    "it_mask = df['professional_roles'].isin(it_roles)"
   ]
  },
  {
   "cell_type": "code",
   "execution_count": 51,
   "id": "39eaea07-8773-4fbd-a07f-293369b2f776",
   "metadata": {},
   "outputs": [],
   "source": [
    "it_dataset = df[it_mask]"
   ]
  },
  {
   "cell_type": "code",
   "execution_count": 53,
   "id": "036f206a-ecf9-4d5f-aaf7-d0a3d89446c0",
   "metadata": {},
   "outputs": [
    {
     "name": "stderr",
     "output_type": "stream",
     "text": [
      "/tmp/ipykernel_104867/3410396296.py:1: SettingWithCopyWarning: \n",
      "A value is trying to be set on a copy of a slice from a DataFrame.\n",
      "Try using .loc[row_indexer,col_indexer] = value instead\n",
      "\n",
      "See the caveats in the documentation: https://pandas.pydata.org/pandas-docs/stable/user_guide/indexing.html#returning-a-view-versus-a-copy\n",
      "  it_dataset['key_skills'] = it_dataset['key_skills'].fillna('')\n",
      "/tmp/ipykernel_104867/3410396296.py:2: FutureWarning: The default value of regex will change from True to False in a future version. In addition, single character regular expressions will *not* be treated as literal strings when regex=True.\n",
      "  it_dataset['key_skills'] = it_dataset['key_skills'].str.replace('{','').str.replace('}','').str.replace('\"','')\n",
      "/tmp/ipykernel_104867/3410396296.py:2: SettingWithCopyWarning: \n",
      "A value is trying to be set on a copy of a slice from a DataFrame.\n",
      "Try using .loc[row_indexer,col_indexer] = value instead\n",
      "\n",
      "See the caveats in the documentation: https://pandas.pydata.org/pandas-docs/stable/user_guide/indexing.html#returning-a-view-versus-a-copy\n",
      "  it_dataset['key_skills'] = it_dataset['key_skills'].str.replace('{','').str.replace('}','').str.replace('\"','')\n",
      "/tmp/ipykernel_104867/3410396296.py:3: SettingWithCopyWarning: \n",
      "A value is trying to be set on a copy of a slice from a DataFrame.\n",
      "Try using .loc[row_indexer,col_indexer] = value instead\n",
      "\n",
      "See the caveats in the documentation: https://pandas.pydata.org/pandas-docs/stable/user_guide/indexing.html#returning-a-view-versus-a-copy\n",
      "  it_dataset['key_skills_list'] = it_dataset['key_skills'].str.split(',')\n"
     ]
    }
   ],
   "source": [
    "it_dataset['key_skills'] = it_dataset['key_skills'].fillna('')\n",
    "it_dataset['key_skills'] = it_dataset['key_skills'].str.replace('{','').str.replace('}','').str.replace('\"','')\n",
    "it_dataset['key_skills_list'] = it_dataset['key_skills'].str.split(',')\n",
    "it_dataset['key_skills'] = it_dataset['key_skills_list'].str.join(';')"
   ]
  },
  {
   "cell_type": "code",
   "execution_count": 58,
   "id": "70922798-a7a4-4acd-9185-f14aaed06f24",
   "metadata": {},
   "outputs": [
    {
     "name": "stderr",
     "output_type": "stream",
     "text": [
      "/tmp/ipykernel_104867/2090887929.py:10: SettingWithCopyWarning: \n",
      "A value is trying to be set on a copy of a slice from a DataFrame.\n",
      "Try using .loc[row_indexer,col_indexer] = value instead\n",
      "\n",
      "See the caveats in the documentation: https://pandas.pydata.org/pandas-docs/stable/user_guide/indexing.html#returning-a-view-versus-a-copy\n",
      "  it_dataset['description'] = it_dataset['description'].apply(cleanhtml)\n"
     ]
    }
   ],
   "source": [
    "## description cleaning\n",
    "\n",
    "import re\n",
    "CLEANR = re.compile('<.*?>') \n",
    "\n",
    "def cleanhtml(raw_html):\n",
    "    cleantext = re.sub(CLEANR, '', raw_html)\n",
    "    return cleantext\n",
    "\n",
    "it_dataset['description'] = it_dataset['description'].apply(cleanhtml)"
   ]
  },
  {
   "cell_type": "code",
   "execution_count": 60,
   "id": "e73f7440-78ae-46d7-82e2-99fedc864672",
   "metadata": {},
   "outputs": [],
   "source": [
    "it_dataset[['description','key_skills']].to_csv('../data/it_dataset.csv', index = False)"
   ]
  }
 ],
 "metadata": {
  "kernelspec": {
   "display_name": "Python 3 (ipykernel)",
   "language": "python",
   "name": "python3"
  },
  "language_info": {
   "codemirror_mode": {
    "name": "ipython",
    "version": 3
   },
   "file_extension": ".py",
   "mimetype": "text/x-python",
   "name": "python",
   "nbconvert_exporter": "python",
   "pygments_lexer": "ipython3",
   "version": "3.10.8"
  }
 },
 "nbformat": 4,
 "nbformat_minor": 5
}
